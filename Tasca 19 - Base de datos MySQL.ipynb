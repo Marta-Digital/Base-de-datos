{
 "cells": [
  {
   "cell_type": "markdown",
   "metadata": {},
   "source": [
    "![logo](banner.jpg)"
   ]
  },
  {
   "cell_type": "markdown",
   "metadata": {},
   "source": [
    "<h1><center><span style=\"color:blue\">TASCA 13 - IT Academy</span></center></h1>\n",
    "<h2><center><span style=\"color:blue\">Curs Data Science</span></center></h2>"
   ]
  },
  {
   "cell_type": "code",
   "execution_count": 23,
   "metadata": {},
   "outputs": [],
   "source": [
    "import pandas as pd\n",
    "import numpy as np\n",
    "import matplotlib.pyplot  as plt\n",
    "from matplotlib.pyplot import figure"
   ]
  },
  {
   "cell_type": "markdown",
   "metadata": {},
   "source": [
    "### <span style=\"color:black\">Exercici 1.</span>"
   ]
  },
  {
   "cell_type": "markdown",
   "metadata": {},
   "source": [
    "__Crea una base de dades relacionals senzilla utilitzant MySQL(https://www.mysql.com/) i connecta-la a Python:__ <span style=\"color:blue\">__[X] Fet__</span>"
   ]
  },
  {
   "cell_type": "code",
   "execution_count": 2,
   "metadata": {},
   "outputs": [],
   "source": [
    "# Importamos el mysql conector\n",
    "\n",
    "import mysql.connector"
   ]
  },
  {
   "cell_type": "code",
   "execution_count": 3,
   "metadata": {},
   "outputs": [
    {
     "name": "stdout",
     "output_type": "stream",
     "text": [
      "<mysql.connector.connection.MySQLConnection object at 0x0000021CA3534388>\n"
     ]
    }
   ],
   "source": [
    "# Nos conectamos a la base de datos 'ventas' creada en cmd con usuario 'root'\n",
    "\n",
    "mydb = mysql.connector.connect(\n",
    "  host=\"localhost\",\n",
    "  user=\"root\",\n",
    "  database=\"ventas\"\n",
    ")\n",
    "\n",
    "print(mydb)"
   ]
  },
  {
   "cell_type": "code",
   "execution_count": 4,
   "metadata": {},
   "outputs": [
    {
     "name": "stdout",
     "output_type": "stream",
     "text": [
      "('cliente',)\n",
      "('comercial',)\n",
      "('pedido',)\n"
     ]
    }
   ],
   "source": [
    "# visualizamos las tablas creadas en la DB 'ventas'.\n",
    "\n",
    "mycursor = mydb.cursor()\n",
    "\n",
    "mycursor.execute(\"SHOW TABLES\")\n",
    "\n",
    "for x in mycursor:\n",
    "  print(x)"
   ]
  },
  {
   "cell_type": "code",
   "execution_count": null,
   "metadata": {},
   "outputs": [],
   "source": [
    "# adjunto la estructura de las 3 tablas creadas."
   ]
  },
  {
   "cell_type": "markdown",
   "metadata": {},
   "source": [
    "![img](Tabla_Cliente.jpg)"
   ]
  },
  {
   "cell_type": "markdown",
   "metadata": {},
   "source": [
    "![img](Tabla_Comercial.jpg)"
   ]
  },
  {
   "cell_type": "markdown",
   "metadata": {},
   "source": [
    "![img](Tabla_Pedido.jpg)"
   ]
  },
  {
   "cell_type": "markdown",
   "metadata": {},
   "source": [
    "### <span style=\"color:black\">Exercici 2.</span>"
   ]
  },
  {
   "cell_type": "markdown",
   "metadata": {},
   "source": [
    "__Mostra que pots carregar algunes consultes senzilles a un Pandas Dataframe:__ <span style=\"color:blue\">__[X] Fet__</span>"
   ]
  },
  {
   "cell_type": "code",
   "execution_count": null,
   "metadata": {},
   "outputs": [],
   "source": [
    "# Devuelve todos los datos de los dos pedidos de mayor valor"
   ]
  },
  {
   "cell_type": "code",
   "execution_count": 9,
   "metadata": {},
   "outputs": [
    {
     "name": "stdout",
     "output_type": "stream",
     "text": [
      "(7, 5760.0, datetime.date(2015, 9, 10), 2, 1)\n",
      "(12, 3045.6, datetime.date(2017, 4, 25), 2, 1)\n"
     ]
    }
   ],
   "source": [
    "mycursor = mydb.cursor()\n",
    "\n",
    "sql = \"SELECT * FROM pedido order by total DESC limit 2\"\n",
    "\n",
    "mycursor.execute(sql)\n",
    "\n",
    "myresult = mycursor.fetchall()\n",
    "\n",
    "for x in myresult:\n",
    "  print(x)\n"
   ]
  },
  {
   "cell_type": "code",
   "execution_count": null,
   "metadata": {},
   "outputs": [],
   "source": [
    "# Devuelve un listado con el nombre y los apellidos de los comerciales que tienen una comisión entre 0.05 y 0.11. "
   ]
  },
  {
   "cell_type": "code",
   "execution_count": 10,
   "metadata": {},
   "outputs": [
    {
     "name": "stdout",
     "output_type": "stream",
     "text": [
      "('Diego', 'Flores', 'Salas')\n",
      "('Antonio', 'Vega', 'Hernández')\n",
      "('Alfredo', 'Ruiz', 'Flores')\n"
     ]
    }
   ],
   "source": [
    "mycursor = mydb.cursor()\n",
    "\n",
    "sql = \"SELECT nombre, apellido1, apellido2 FROM comercial where comision between 0.05 and 0.11\"\n",
    "\n",
    "mycursor.execute(sql)\n",
    "\n",
    "myresult = mycursor.fetchall()\n",
    "\n",
    "for x in myresult:\n",
    "  print(x)\n"
   ]
  },
  {
   "cell_type": "code",
   "execution_count": null,
   "metadata": {},
   "outputs": [],
   "source": [
    "# Devuelve un listado (ordenado alfabeticamente) con el nombre y los apellidos de todos los clientes que han realizado algún \n",
    "# pedido, eliminando los elementos repetidos."
   ]
  },
  {
   "cell_type": "code",
   "execution_count": 12,
   "metadata": {},
   "outputs": [
    {
     "name": "stdout",
     "output_type": "stream",
     "text": [
      "('Marcos', 'Loyola', 'Méndez')\n",
      "('Aarón', 'Rivero', 'Gómez')\n",
      "('Adolfo', 'Rubio', 'Flores')\n",
      "('Pilar', 'Ruiz', None)\n",
      "('Pepe', 'Ruiz', 'Santana')\n",
      "('Adela', 'Salas', 'Díaz')\n",
      "('María', 'Santana', 'Moreno')\n",
      "('Adrián', 'Suárez', None)\n"
     ]
    }
   ],
   "source": [
    "mycursor = mydb.cursor()\n",
    "\n",
    "sql = \"SELECT DISTINCT nombre, apellido1, apellido2 FROM cliente C JOIN pedido P ON C.id=P.id_cliente ORDER BY apellido1, apellido2, nombre ASC\"\n",
    "\n",
    "mycursor.execute(sql)\n",
    "\n",
    "myresult = mycursor.fetchall()\n",
    "\n",
    "for x in myresult:\n",
    "  print(x)"
   ]
  },
  {
   "cell_type": "code",
   "execution_count": null,
   "metadata": {},
   "outputs": [],
   "source": [
    "# Devuelve un listado que solamente muestre los clientes que no han realizado ningún pedido. "
   ]
  },
  {
   "cell_type": "code",
   "execution_count": 31,
   "metadata": {},
   "outputs": [
    {
     "name": "stdout",
     "output_type": "stream",
     "text": [
      "('Guillermo', 'López', 'Gómez', None, None)\n",
      "('Daniel', 'Santana', 'Loyola', None, None)\n"
     ]
    }
   ],
   "source": [
    "mycursor = mydb.cursor()\n",
    "\n",
    "sql = \"Select nombre, apellido1, apellido2, total, fecha FROM cliente C LEFT JOIN pedido P ON C.id=id_cliente where P.id IS NULL;\"\n",
    "\n",
    "mycursor.execute(sql)\n",
    "\n",
    "myresult = mycursor.fetchall()\n",
    "\n",
    "for x in myresult:\n",
    "  print(x)"
   ]
  },
  {
   "cell_type": "code",
   "execution_count": null,
   "metadata": {},
   "outputs": [],
   "source": [
    "# Devuelve el nombre de todos los clientes que han realizado algún pedido con el comercial Daniel Sáez Vega."
   ]
  },
  {
   "cell_type": "code",
   "execution_count": 15,
   "metadata": {},
   "outputs": [
    {
     "name": "stdout",
     "output_type": "stream",
     "text": [
      "('Adela', 'Salas', 'Díaz')\n",
      "('Pilar', 'Ruiz', None)\n",
      "('María', 'Santana', 'Moreno')\n"
     ]
    }
   ],
   "source": [
    "mycursor = mydb.cursor()\n",
    "\n",
    "sql = \"SELECT DISTINCT cl.nombre, cl.apellido1, cl.apellido2 FROM comercial co INNER JOIN pedido p ON (co.id=p.id_comercial) INNER JOIN cliente cl ON (cl.id=p.id_cliente) WHERE co.nombre='Daniel' AND co.apellido1='Sáez' AND co.apellido2='Vega';\"\n",
    "\n",
    "mycursor.execute(sql)\n",
    "\n",
    "myresult = mycursor.fetchall()\n",
    "\n",
    "for x in myresult:\n",
    "  print(x)"
   ]
  },
  {
   "cell_type": "markdown",
   "metadata": {},
   "source": [
    "### <span style=\"color:black\">Exercici 3.</span>\n",
    "\n",
    "__Genera algun gràfic que resumeixi les dades:__ <span style=\"color:blue\">__[X] Fet__</span>"
   ]
  },
  {
   "cell_type": "code",
   "execution_count": null,
   "metadata": {},
   "outputs": [],
   "source": [
    "# Para visualizar un resumer de las 3 tablas que forman parte de nuesta BBDD 'ventas', vamos a realizar 3 gráficos:\n",
    "    #-Compras por clientes\n",
    "    #-Ventas por comercial\n",
    "    #-Performance de los comerciales"
   ]
  },
  {
   "cell_type": "code",
   "execution_count": 52,
   "metadata": {},
   "outputs": [
    {
     "name": "stdout",
     "output_type": "stream",
     "text": [
      "Start\n",
      "End\n"
     ]
    },
    {
     "data": {
      "image/png": "[encoded data removed]",
      "text/plain": [
       "<Figure size 720x432 with 1 Axes>"
      ]
     },
     "metadata": {
      "needs_background": "light"
     },
     "output_type": "display_data"
    },
    {
     "data": {
      "text/plain": [
       "<Figure size 1080x504 with 0 Axes>"
      ]
     },
     "metadata": {},
     "output_type": "display_data"
    }
   ],
   "source": [
    "def mysql_select_all():\n",
    "    mydb = mysql.connector.connect(host=\"localhost\", user=\"root\", database='ventas')\n",
    "    cursor = mydb.cursor()\n",
    "    sql = \"Select concat_ws(' ', nombre, apellido1) as cliente, total FROM cliente C JOIN pedido P ON C.id=P.id GROUP BY C.id\"\n",
    "    cursor.execute(sql)\n",
    "    result = cursor.fetchall()\n",
    "    df = pd.DataFrame(list(result),columns=[\"cliente\",\"total\"])\n",
    "    x = df.cliente\n",
    "    y = df.total\n",
    "    plt.title(\"Compras por cliente\", fontsize=\"24\")\n",
    "    plt.bar(x, y, align='center', color=['green'])\n",
    "    plt.xticks(rotation=45)\n",
    "    plt.xlabel(\"Nombre del cliente\", fontsize=\"15\")\n",
    "    plt.ylabel(\"Total de compras(€)\", fontsize=\"15\")\n",
    "    plt.figure(figsize=(15,7))\n",
    "    cursor.close()\n",
    "\n",
    "print(\"Start\")\n",
    "\n",
    "mysql_select_all()\n",
    "\n",
    "print(\"End\")"
   ]
  },
  {
   "cell_type": "code",
   "execution_count": 48,
   "metadata": {},
   "outputs": [
    {
     "name": "stdout",
     "output_type": "stream",
     "text": [
      "Start\n",
      "End\n"
     ]
    },
    {
     "data": {
      "image/png": "[encoded data removed]",
      "text/plain": [
       "<Figure size 720x432 with 1 Axes>"
      ]
     },
     "metadata": {
      "needs_background": "light"
     },
     "output_type": "display_data"
    },
    {
     "data": {
      "text/plain": [
       "<Figure size 720x504 with 0 Axes>"
      ]
     },
     "metadata": {},
     "output_type": "display_data"
    }
   ],
   "source": [
    "def mysql_select_all():\n",
    "    mydb = mysql.connector.connect(host=\"localhost\", user=\"root\", database='ventas')\n",
    "    cursor = mydb.cursor()\n",
    "    sql = \"Select concat_ws(' ', nombre, apellido1) as comercial, total FROM comercial C JOIN pedido P ON C.id=P.id_comercial GROUP BY C.id\"\n",
    "    cursor.execute(sql)\n",
    "    result = cursor.fetchall()\n",
    "    df = pd.DataFrame(list(result),columns=[\"comercial\",\"total\"])\n",
    "    x = df.comercial\n",
    "    y = df.total\n",
    "    plt.title(\"Ventas por comercial\", fontsize=\"24\")\n",
    "    plt.bar(x, y, align='center', color=['cyan','red','green','pink','orange', 'blue'])\n",
    "    plt.xlabel(\"Nombre del comercial\", fontsize=\"15\")\n",
    "    plt.ylabel(\"Ventas totales (€)\", fontsize=\"15\")\n",
    "    plt.figure(figsize=(10,7))\n",
    "    cursor.close()\n",
    "\n",
    "print(\"Start\")\n",
    "\n",
    "mysql_select_all()\n",
    "\n",
    "print(\"End\")"
   ]
  },
  {
   "cell_type": "code",
   "execution_count": 38,
   "metadata": {},
   "outputs": [
    {
     "name": "stdout",
     "output_type": "stream",
     "text": [
      "Start\n",
      "End\n"
     ]
    },
    {
     "data": {
      "image/png": "[encoded data removed]",
      "text/plain": [
       "<Figure size 720x432 with 1 Axes>"
      ]
     },
     "metadata": {},
     "output_type": "display_data"
    },
    {
     "data": {
      "text/plain": [
       "<Figure size 720x504 with 0 Axes>"
      ]
     },
     "metadata": {},
     "output_type": "display_data"
    }
   ],
   "source": [
    "def mysql_select_all():\n",
    "    mydb = mysql.connector.connect(host=\"localhost\", user=\"root\", database='ventas')\n",
    "    cursor = mydb.cursor()\n",
    "    sql = \"Select CONCAT_WS(' ',nombre, apellido1), total FROM comercial C JOIN pedido P ON C.id=P.id_comercial GROUP BY C.id\"\n",
    "    cursor.execute(sql)\n",
    "    result = cursor.fetchall()\n",
    "    df = pd.DataFrame(list(result),columns=[\"Select CONCAT_WS(' ',nombre, apellido1)\",\"total\"])\n",
    "    myexplode = [0, 0, 0, 0, 0.2, 0]\n",
    "    mylabels = [\"Daniel Sáez\", \"Juan Gómez\", \"Diego Flores\", \"Antonio Carretero\", \"Manuel Domínguez\", \"Antonio Vega\"]\n",
    "    plt.title(\"Performance de los comerciales\", fontsize=\"24\")\n",
    "    plt.pie(df.total, labels=mylabels, autopct='%1.1f%%', explode= myexplode, textprops={'fontsize': 12}, shadow=True)\n",
    "    plt.figure(figsize=(10,7))\n",
    "    cursor.close()\n",
    "\n",
    "print(\"Start\")\n",
    "\n",
    "mysql_select_all()\n",
    "\n",
    "print(\"End\")"
   ]
  }
 ],
 "metadata": {
  "kernelspec": {
   "display_name": "Python 3",
   "language": "python",
   "name": "python3"
  },
  "language_info": {
   "codemirror_mode": {
    "name": "ipython",
    "version": 3
   },
   "file_extension": ".py",
   "mimetype": "text/x-python",
   "name": "python",
   "nbconvert_exporter": "python",
   "pygments_lexer": "ipython3",
   "version": "3.7.4"
  }
 },
 "nbformat": 4,
 "nbformat_minor": 4
}
