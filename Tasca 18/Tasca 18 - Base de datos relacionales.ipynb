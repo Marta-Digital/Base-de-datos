{
 "cells": [
  {
   "cell_type": "markdown",
   "metadata": {},
   "source": [
    "![logo](banner.jpg)"
   ]
  },
  {
   "cell_type": "markdown",
   "metadata": {},
   "source": [
    "<h1><center><span style=\"color:blue\">TASCA 18 - IT Academy</span></center></h1>\n",
    "<h1><center><span style=\"color:blue\">BASE DE DATOS RELACIONALES</span></center></h1>\n",
    "<h2><center><span style=\"color:blue\">Curs Data Science</span></center></h2>"
   ]
  },
  {
   "cell_type": "markdown",
   "metadata": {},
   "source": [
    "### <span style=\"color:black\">Exercici 1.</span>"
   ]
  },
  {
   "cell_type": "markdown",
   "metadata": {},
   "source": [
    "__Crea una base relacional d’exemple utilitzant un document de text o a mà. Dissenya-la perquè contingui les següents taules, i estableix les relacions que consideris necessàries entre elles:__ <span style=\"color:blue\">__[X] Fet__</span>"
   ]
  },
  {
   "cell_type": "markdown",
   "metadata": {},
   "source": [
    "![img](Tasca18_BBDDrelacional.jpg)"
   ]
  },
  {
   "cell_type": "markdown",
   "metadata": {},
   "source": [
    "### <span style=\"color:black\">Exercici 2.</span>"
   ]
  },
  {
   "cell_type": "markdown",
   "metadata": {},
   "source": [
    "__Utilitza un programa de creació de diagrames entitat-relació com http://dia-installer.de per crear el diagrama:__ <span style=\"color:blue\">__[X] Fet__</span>"
   ]
  },
  {
   "cell_type": "code",
   "execution_count": null,
   "metadata": {},
   "outputs": [],
   "source": [
    "# Adjunto imagen del el archivo exportado en jpg y también imagen del diagrama amb la interfaz del programa (de lo contrario\n",
    "# parecería que lo he hecho con powerporint jeje)"
   ]
  },
  {
   "cell_type": "code",
   "execution_count": null,
   "metadata": {},
   "outputs": [],
   "source": [
    "# Archivo Exportado en formato jpg."
   ]
  },
  {
   "cell_type": "markdown",
   "metadata": {},
   "source": [
    "![img](Tasca18_DiagramaExportado.jpeg)"
   ]
  },
  {
   "cell_type": "code",
   "execution_count": null,
   "metadata": {},
   "outputs": [],
   "source": [
    "# Imagen del programa con el diagrama entidad relación."
   ]
  },
  {
   "cell_type": "markdown",
   "metadata": {},
   "source": [
    "![img](Tasca18_Diagrama.jpg)"
   ]
  },
  {
   "cell_type": "markdown",
   "metadata": {},
   "source": [
    "### <span style=\"color:black\">Exercici 3.</span>\n",
    "\n",
    "__Utilitza el Workbench de MySQL per crear un diagrama entitat-relació:__ <span style=\"color:blue\">__[X] Fet__</span>"
   ]
  },
  {
   "cell_type": "markdown",
   "metadata": {},
   "source": [
    "![img](Tasca18_MySQLWorkbench.jpg)"
   ]
  },
  {
   "cell_type": "code",
   "execution_count": null,
   "metadata": {},
   "outputs": [],
   "source": []
  }
 ],
 "metadata": {
  "kernelspec": {
   "display_name": "Python 3",
   "language": "python",
   "name": "python3"
  },
  "language_info": {
   "codemirror_mode": {
    "name": "ipython",
    "version": 3
   },
   "file_extension": ".py",
   "mimetype": "text/x-python",
   "name": "python",
   "nbconvert_exporter": "python",
   "pygments_lexer": "ipython3",
   "version": "3.7.4"
  }
 },
 "nbformat": 4,
 "nbformat_minor": 4
}
